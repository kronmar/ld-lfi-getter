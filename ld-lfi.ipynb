{
 "cells": [
  {
   "cell_type": "code",
   "execution_count": 2,
   "metadata": {},
   "outputs": [],
   "source": [
    "import pandas as pd\n",
    "import matplotlib.pyplot as plt\n",
    "from matplotlib.cm import Greens\n",
    "from getters import LDLFI\n",
    "pd.set_option('display.expand_frame_repr', False)\n",
    "\n",
    "import importlib"
   ]
  },
  {
   "attachments": {},
   "cell_type": "markdown",
   "metadata": {},
   "source": [
    "# Collecting and plotting\n",
    "\n",
    "## Collecting\n",
    "\n",
    "Our goal within this notebook is to first collect the information from [this table](\"https://lfi.ch/resultate/resultate-en.php?auswNr=434&befNr=96&fldSearch=&invNr=550&p=search&regionNr=827&zigrNr=73&prodNr=95&prodItNr=12634232\") about the volume within the economic regions, the accessible forests without shrub forest, and during the latest published NFI period classified by conifers and broadleaves.\n",
    "\n",
    "To fetch the data, we will use the keys that are used in the underlying relational database. To get these keys, we wrote some small functions to help in this.\n",
    "\n",
    "First, we are interested in the number of our topic:"
   ]
  },
  {
   "cell_type": "code",
   "execution_count": 6,
   "metadata": {},
   "outputs": [
    {
     "ename": "TypeError",
     "evalue": "LDLFI.getTopicNumbers() got an unexpected keyword argument 'printQuery'",
     "output_type": "error",
     "traceback": [
      "\u001b[0;31m---------------------------------------------------------------------------\u001b[0m",
      "\u001b[0;31mTypeError\u001b[0m                                 Traceback (most recent call last)",
      "Cell \u001b[0;32mIn[6], line 2\u001b[0m\n\u001b[1;32m      1\u001b[0m \u001b[39mimport\u001b[39;00m \u001b[39mgetters\u001b[39;00m\n\u001b[0;32m----> 2\u001b[0m getters\u001b[39m.\u001b[39;49mLDLFI\u001b[39m.\u001b[39;49mgetTopicNumbers(printQuery\u001b[39m=\u001b[39;49m\u001b[39mTrue\u001b[39;49;00m)\n",
      "\u001b[0;31mTypeError\u001b[0m: LDLFI.getTopicNumbers() got an unexpected keyword argument 'printQuery'"
     ]
    }
   ],
   "source": [
    "import getters\n",
    "getters.LDLFI.getTopicNumbers(printQuery=True)"
   ]
  },
  {
   "attachments": {},
   "cell_type": "markdown",
   "metadata": {},
   "source": [
    "As you see and mostly likely already knew, there are many. To help with this, one can provide a keyword:"
   ]
  },
  {
   "cell_type": "code",
   "execution_count": 15,
   "metadata": {},
   "outputs": [
    {
     "name": "stdout",
     "output_type": "stream",
     "text": [
      " number                                                name\n",
      "     21                                              Volume\n",
      "     21                        Volume per HA of forest area\n",
      "     23           Total timber volume per HA of forest area\n",
      "     23                                 Total timber volume\n",
      "     24                                 Volume of dead wood\n",
      "     24           Volume of dead wood per HA of forest area\n",
      "    167                       Volume of bole wood (HG 2000)\n",
      "    167 Volume of bole wood (HG 2000) per HA of forest area\n",
      "    211                       Volume of bole wood (HG 2010)\n",
      "    211 Volume of bole wood (HG 2010) per HA of forest area\n",
      "    242                            Total timber volume NFI1\n",
      "    242      Total timber volume NFI1 per HA of forest area\n",
      "    249                            Volume of dead wood NFI1\n",
      "    249      Volume of dead wood NFI1 per HA of forest area\n"
     ]
    }
   ],
   "source": [
    "getters.LDLFI.getTopicNumbers(keyword=\"Volume\")"
   ]
  },
  {
   "attachments": {},
   "cell_type": "markdown",
   "metadata": {},
   "source": [
    "And thus we see, that the topic we are interested in has the number \"21\".\n",
    "\n",
    "Next for the classification number. The search function supports other languages (specifically French, English, Italian and German), thus we can look up \"Laubholz\" for the classification unit we are interested (keep in mind, you have to also change the language parameter, or it might fail to fetch any information):"
   ]
  },
  {
   "cell_type": "code",
   "execution_count": 25,
   "metadata": {},
   "outputs": [
    {
     "name": "stdout",
     "output_type": "stream",
     "text": [
      " number                        name\n",
      "     96         Nadel- und Laubholz\n",
      "   2368 Stock: Nadel- oder Laubholz\n"
     ]
    }
   ],
   "source": [
    "\n",
    "getters.LDLFI.getClassificationNumbers(keyword=\"Laubholz\", language=\"de\")"
   ]
  },
  {
   "attachments": {},
   "cell_type": "markdown",
   "metadata": {},
   "source": [
    "For the regional classification, we can ask them:"
   ]
  },
  {
   "cell_type": "code",
   "execution_count": 11,
   "metadata": {},
   "outputs": [
    {
     "name": "stdout",
     "output_type": "stream",
     "text": [
      "PREFIX cube: <https://cube.link/>\n",
      "PREFIX geo: <http://www.opengis.net/ont/geosparql#>PREFIX nfi: <https://environment.ld.admin.ch/foen/nfi/>\n",
      "PREFIX rdf: <http://www.w3.org/1999/02/22-rdf-syntax-ns#>\n",
      "PREFIX rdfs: <http://www.w3.org/2000/01/rdf-schema#>\n",
      "PREFIX schema: <http://schema.org/>\n",
      "\n",
      "SELECT ?number ?name\n",
      "FROM <https://lindas.admin.ch/foen/nfi>\n",
      "{\n",
      "  ?prop a nfi:UnitOfReference .\n",
      "  ?prop schema:name ?name .\n",
      "  ?prop schema:identifier ?number .\n",
      "   FILTER(LANG(?name) = 'fr') .\n",
      "} order by asc(?number) \n",
      "\n",
      "\n",
      "\n",
      " number                        name\n",
      "     49        Région de production\n",
      "    366           Région économique\n",
      "    827                      Canton\n",
      "    829 Région de forêt protectrice\n",
      "   2586      Région biogéographique\n"
     ]
    }
   ],
   "source": [
    "importlib.reload(getters)\n",
    "getters.LDLFI.getRegionNumbers(language=\"fr\", printQuery=True)"
   ]
  },
  {
   "attachments": {},
   "cell_type": "markdown",
   "metadata": {},
   "source": [
    "**Remark**: Biogeographical regions are not yet uploaded on LINDAS!\n",
    "\n",
    "Finally, we are interested in the unit of evaluation:"
   ]
  },
  {
   "cell_type": "code",
   "execution_count": 29,
   "metadata": {},
   "outputs": [
    {
     "name": "stdout",
     "output_type": "stream",
     "text": [
      " number                                                           name\n",
      "    434                         Accessible forest without shrub forest\n",
      "    435                                                     Total area\n",
      "    484                                                         Forest\n",
      "    531               Accessible forest without shrub forest NFI1/NFI2\n",
      "    533               Accessible forest without shrub forest NFI2/NFI3\n",
      "    828                                                   Shrub forest\n",
      "   1348                                             Accessible forest \n",
      "   1429               Accessible forest without shrub forest NFI3/NFI4\n",
      "   1876           Stockable and accessible forest without shrub forest\n",
      "   2282               Accessible forest without shrub forest NFI4/NFI5\n",
      "   2382               Accessible forest without shrub forest NFI1-NFI5\n",
      "   2604                                               Forest NFI4/NFI5\n",
      "   2608                                    Accessible forest NFI4/NFI5\n",
      "   2615 Stockable and accessible forest without shrub forest NFI2-NFI5\n",
      "   2652                          Protection forests (2022): a.f.w.s.f.\n",
      "   2653                              Protection forests (2022): forest\n",
      "   2675        Forest edge up to the montane vegetation belt NFI2-NFI5\n",
      "   2676        Forest edge up to the montane vegetation belt NFI4/NFI5\n",
      "   2677                  Forest edge up to the montane vegetation belt\n",
      "   2681                   Protection forests (2022): accessible forest\n",
      "   2682         Protection forests (2022): accessible forest NFI4/NFI5\n",
      "   2683                    Protection forests (2022): forest NFI4/NFI5\n",
      "   2684             Protection forests (2022): a.f.w.s.f. NFI1 to NFI5\n",
      "   2685                Protection forests (2022): a.f.w.s.f. NFI4/NFI5\n"
     ]
    }
   ],
   "source": [
    "getters.LDLFI.getUnitOfEvaluationNumbers()"
   ]
  },
  {
   "attachments": {},
   "cell_type": "markdown",
   "metadata": {},
   "source": [
    "**Remark**: as it stands today, only numbers 434 and 2382 are supported, as they are the most-used units of evaluation.\n",
    "\n",
    "With all of that out of the way, we can fetch the data. This function always fetches data for all NFI periods. For the table above we thus need `topicNumber=73`, `classificationNumber=96`, `regionNumber=827`, and `unitOfEvaluationNumber=434`. An optional language parameter can be provided to change the labels' language."
   ]
  },
  {
   "cell_type": "code",
   "execution_count": 43,
   "metadata": {},
   "outputs": [
    {
     "data": {
      "text/html": [
       "<div>\n",
       "<style scoped>\n",
       "    .dataframe tbody tr th:only-of-type {\n",
       "        vertical-align: middle;\n",
       "    }\n",
       "\n",
       "    .dataframe tbody tr th {\n",
       "        vertical-align: top;\n",
       "    }\n",
       "\n",
       "    .dataframe thead th {\n",
       "        text-align: right;\n",
       "    }\n",
       "</style>\n",
       "<table border=\"1\" class=\"dataframe\">\n",
       "  <thead>\n",
       "    <tr style=\"text-align: right;\">\n",
       "      <th></th>\n",
       "      <th>inventoryName</th>\n",
       "      <th>classificationName</th>\n",
       "      <th>regionName</th>\n",
       "      <th>unitOfEvaluationName</th>\n",
       "      <th>topicValue</th>\n",
       "      <th>topicSE</th>\n",
       "    </tr>\n",
       "  </thead>\n",
       "  <tbody>\n",
       "    <tr>\n",
       "      <th>0</th>\n",
       "      <td>NFI2</td>\n",
       "      <td>Conifers and broadleaves</td>\n",
       "      <td>Geneva</td>\n",
       "      <td>Accessible forest without shrub forest</td>\n",
       "      <td>1206186.0</td>\n",
       "      <td>38.0</td>\n",
       "    </tr>\n",
       "    <tr>\n",
       "      <th>1</th>\n",
       "      <td>NFI1</td>\n",
       "      <td>Conifers and broadleaves</td>\n",
       "      <td>Geneva</td>\n",
       "      <td>Accessible forest without shrub forest</td>\n",
       "      <td>1208565.0</td>\n",
       "      <td>38.0</td>\n",
       "    </tr>\n",
       "    <tr>\n",
       "      <th>2</th>\n",
       "      <td>NFI5</td>\n",
       "      <td>Conifers and broadleaves</td>\n",
       "      <td>Thurgau</td>\n",
       "      <td>Accessible forest without shrub forest</td>\n",
       "      <td>8835957.0</td>\n",
       "      <td>14.0</td>\n",
       "    </tr>\n",
       "    <tr>\n",
       "      <th>3</th>\n",
       "      <td>NFI2</td>\n",
       "      <td>Conifers and broadleaves</td>\n",
       "      <td>Thurgau</td>\n",
       "      <td>Accessible forest without shrub forest</td>\n",
       "      <td>10361722.0</td>\n",
       "      <td>11.0</td>\n",
       "    </tr>\n",
       "    <tr>\n",
       "      <th>4</th>\n",
       "      <td>NFI4</td>\n",
       "      <td>Conifers and broadleaves</td>\n",
       "      <td>Thurgau</td>\n",
       "      <td>Accessible forest without shrub forest</td>\n",
       "      <td>9611134.0</td>\n",
       "      <td>11.0</td>\n",
       "    </tr>\n",
       "    <tr>\n",
       "      <th>...</th>\n",
       "      <td>...</td>\n",
       "      <td>...</td>\n",
       "      <td>...</td>\n",
       "      <td>...</td>\n",
       "      <td>...</td>\n",
       "      <td>...</td>\n",
       "    </tr>\n",
       "    <tr>\n",
       "      <th>445</th>\n",
       "      <td>NFI4</td>\n",
       "      <td>Indeterminable</td>\n",
       "      <td>both Basel</td>\n",
       "      <td>Accessible forest without shrub forest</td>\n",
       "      <td>NaN</td>\n",
       "      <td>NaN</td>\n",
       "    </tr>\n",
       "    <tr>\n",
       "      <th>446</th>\n",
       "      <td>NFI4</td>\n",
       "      <td>Indeterminable</td>\n",
       "      <td>Bern</td>\n",
       "      <td>Accessible forest without shrub forest</td>\n",
       "      <td>NaN</td>\n",
       "      <td>NaN</td>\n",
       "    </tr>\n",
       "    <tr>\n",
       "      <th>447</th>\n",
       "      <td>NFI3</td>\n",
       "      <td>Indeterminable</td>\n",
       "      <td>both Basel</td>\n",
       "      <td>Accessible forest without shrub forest</td>\n",
       "      <td>NaN</td>\n",
       "      <td>NaN</td>\n",
       "    </tr>\n",
       "    <tr>\n",
       "      <th>448</th>\n",
       "      <td>NFI5</td>\n",
       "      <td>Indeterminable</td>\n",
       "      <td>both Basel</td>\n",
       "      <td>Accessible forest without shrub forest</td>\n",
       "      <td>NaN</td>\n",
       "      <td>NaN</td>\n",
       "    </tr>\n",
       "    <tr>\n",
       "      <th>449</th>\n",
       "      <td>NFI4</td>\n",
       "      <td>Indeterminable</td>\n",
       "      <td>Zurich</td>\n",
       "      <td>Accessible forest without shrub forest</td>\n",
       "      <td>NaN</td>\n",
       "      <td>NaN</td>\n",
       "    </tr>\n",
       "  </tbody>\n",
       "</table>\n",
       "<p>450 rows × 6 columns</p>\n",
       "</div>"
      ],
      "text/plain": [
       "    inventoryName        classificationName  regionName                    unitOfEvaluationName  topicValue  topicSE\n",
       "0            NFI2  Conifers and broadleaves      Geneva  Accessible forest without shrub forest   1206186.0     38.0\n",
       "1            NFI1  Conifers and broadleaves      Geneva  Accessible forest without shrub forest   1208565.0     38.0\n",
       "2            NFI5  Conifers and broadleaves     Thurgau  Accessible forest without shrub forest   8835957.0     14.0\n",
       "3            NFI2  Conifers and broadleaves     Thurgau  Accessible forest without shrub forest  10361722.0     11.0\n",
       "4            NFI4  Conifers and broadleaves     Thurgau  Accessible forest without shrub forest   9611134.0     11.0\n",
       "..            ...                       ...         ...                                     ...         ...      ...\n",
       "445          NFI4            Indeterminable  both Basel  Accessible forest without shrub forest         NaN      NaN\n",
       "446          NFI4            Indeterminable        Bern  Accessible forest without shrub forest         NaN      NaN\n",
       "447          NFI3            Indeterminable  both Basel  Accessible forest without shrub forest         NaN      NaN\n",
       "448          NFI5            Indeterminable  both Basel  Accessible forest without shrub forest         NaN      NaN\n",
       "449          NFI4            Indeterminable      Zurich  Accessible forest without shrub forest         NaN      NaN\n",
       "\n",
       "[450 rows x 6 columns]"
      ]
     },
     "execution_count": 43,
     "metadata": {},
     "output_type": "execute_result"
    }
   ],
   "source": [
    "importlib.reload(getters)\n",
    "data = getters.LDLFI.getData(topicNumber=\"73\", classificationNumber=\"96\", regionNumber=\"827\", unitOfEvaluationNumber=\"434\")\n",
    "data"
   ]
  },
  {
   "attachments": {},
   "cell_type": "markdown",
   "metadata": {},
   "source": [
    "As you can see, you not only fetch the topic, but it's corresponding standard error as well! The data is returned as a pandas dataframe.\n",
    "\n",
    "One additional feature is the possibility to also fetch the regional data from Swisstopo. You can do this with the optional parameter `geometry=True`."
   ]
  },
  {
   "cell_type": "code",
   "execution_count": 46,
   "metadata": {},
   "outputs": [
    {
     "data": {
      "text/html": [
       "<div>\n",
       "<style scoped>\n",
       "    .dataframe tbody tr th:only-of-type {\n",
       "        vertical-align: middle;\n",
       "    }\n",
       "\n",
       "    .dataframe tbody tr th {\n",
       "        vertical-align: top;\n",
       "    }\n",
       "\n",
       "    .dataframe thead th {\n",
       "        text-align: right;\n",
       "    }\n",
       "</style>\n",
       "<table border=\"1\" class=\"dataframe\">\n",
       "  <thead>\n",
       "    <tr style=\"text-align: right;\">\n",
       "      <th></th>\n",
       "      <th>inventoryName</th>\n",
       "      <th>classificationName</th>\n",
       "      <th>regionName</th>\n",
       "      <th>unitOfEvaluationName</th>\n",
       "      <th>topicValue</th>\n",
       "      <th>topicSE</th>\n",
       "      <th>geometry</th>\n",
       "    </tr>\n",
       "  </thead>\n",
       "  <tbody>\n",
       "    <tr>\n",
       "      <th>0</th>\n",
       "      <td>NFI1</td>\n",
       "      <td>Conifers and broadleaves</td>\n",
       "      <td>Nidwalden</td>\n",
       "      <td>Accessible forest without shrub forest</td>\n",
       "      <td>3697236.0</td>\n",
       "      <td>20.0</td>\n",
       "      <td>POLYGON ((8.38288 47.00066, 8.38547 46.99834, ...</td>\n",
       "    </tr>\n",
       "    <tr>\n",
       "      <th>1</th>\n",
       "      <td>NFI1</td>\n",
       "      <td>Conifers and broadleaves</td>\n",
       "      <td>Jura</td>\n",
       "      <td>Accessible forest without shrub forest</td>\n",
       "      <td>16065652.0</td>\n",
       "      <td>8.0</td>\n",
       "      <td>POLYGON ((7.02724 47.50133, 7.03698 47.49750, ...</td>\n",
       "    </tr>\n",
       "    <tr>\n",
       "      <th>2</th>\n",
       "      <td>NFI1</td>\n",
       "      <td>Conifers and broadleaves</td>\n",
       "      <td>St Gallen</td>\n",
       "      <td>Accessible forest without shrub forest</td>\n",
       "      <td>26516143.0</td>\n",
       "      <td>7.0</td>\n",
       "      <td>POLYGON ((9.55872 47.54189, 9.56110 47.49918, ...</td>\n",
       "    </tr>\n",
       "    <tr>\n",
       "      <th>3</th>\n",
       "      <td>NFI1</td>\n",
       "      <td>Conifers and broadleaves</td>\n",
       "      <td>Ticino</td>\n",
       "      <td>Accessible forest without shrub forest</td>\n",
       "      <td>43170143.0</td>\n",
       "      <td>4.0</td>\n",
       "      <td>POLYGON ((8.95738 46.63033, 8.96294 46.61816, ...</td>\n",
       "    </tr>\n",
       "    <tr>\n",
       "      <th>4</th>\n",
       "      <td>NFI1</td>\n",
       "      <td>Conifers and broadleaves</td>\n",
       "      <td>Zurich</td>\n",
       "      <td>Accessible forest without shrub forest</td>\n",
       "      <td>20758227.0</td>\n",
       "      <td>7.0</td>\n",
       "      <td>POLYGON ((8.66961 47.67475, 8.67687 47.67182, ...</td>\n",
       "    </tr>\n",
       "    <tr>\n",
       "      <th>...</th>\n",
       "      <td>...</td>\n",
       "      <td>...</td>\n",
       "      <td>...</td>\n",
       "      <td>...</td>\n",
       "      <td>...</td>\n",
       "      <td>...</td>\n",
       "      <td>...</td>\n",
       "    </tr>\n",
       "    <tr>\n",
       "      <th>445</th>\n",
       "      <td>NFI5</td>\n",
       "      <td>Conifers</td>\n",
       "      <td>Appenzell Ausserrhoden</td>\n",
       "      <td>Accessible forest without shrub forest</td>\n",
       "      <td>2474965.0</td>\n",
       "      <td>27.0</td>\n",
       "      <td>POLYGON ((9.54715 47.46701, 9.54584 47.46404, ...</td>\n",
       "    </tr>\n",
       "    <tr>\n",
       "      <th>446</th>\n",
       "      <td>NFI5</td>\n",
       "      <td>Conifers and broadleaves</td>\n",
       "      <td>Fribourg</td>\n",
       "      <td>Accessible forest without shrub forest</td>\n",
       "      <td>17550079.0</td>\n",
       "      <td>11.0</td>\n",
       "      <td>MULTIPOLYGON (((6.77307 46.75142, 6.77615 46.7...</td>\n",
       "    </tr>\n",
       "    <tr>\n",
       "      <th>447</th>\n",
       "      <td>NFI5</td>\n",
       "      <td>Conifers and broadleaves</td>\n",
       "      <td>Solothurn</td>\n",
       "      <td>Accessible forest without shrub forest</td>\n",
       "      <td>11902911.0</td>\n",
       "      <td>13.0</td>\n",
       "      <td>MULTIPOLYGON (((7.69240 47.16411, 7.69450 47.1...</td>\n",
       "    </tr>\n",
       "    <tr>\n",
       "      <th>448</th>\n",
       "      <td>NFI5</td>\n",
       "      <td>Conifers</td>\n",
       "      <td>both Basel</td>\n",
       "      <td>Accessible forest without shrub forest</td>\n",
       "      <td>1898933.0</td>\n",
       "      <td>24.0</td>\n",
       "      <td>MULTIPOLYGON (((7.69337 47.60065, 7.67175 47.5...</td>\n",
       "    </tr>\n",
       "    <tr>\n",
       "      <th>449</th>\n",
       "      <td>NFI5</td>\n",
       "      <td>Conifers and broadleaves</td>\n",
       "      <td>Uri</td>\n",
       "      <td>Accessible forest without shrub forest</td>\n",
       "      <td>10041075.0</td>\n",
       "      <td>16.0</td>\n",
       "      <td>POLYGON ((8.60118 46.97524, 8.60439 46.95198, ...</td>\n",
       "    </tr>\n",
       "  </tbody>\n",
       "</table>\n",
       "<p>450 rows × 7 columns</p>\n",
       "</div>"
      ],
      "text/plain": [
       "    inventoryName        classificationName              regionName                    unitOfEvaluationName  topicValue  topicSE                                           geometry\n",
       "0            NFI1  Conifers and broadleaves               Nidwalden  Accessible forest without shrub forest   3697236.0     20.0  POLYGON ((8.38288 47.00066, 8.38547 46.99834, ...\n",
       "1            NFI1  Conifers and broadleaves                    Jura  Accessible forest without shrub forest  16065652.0      8.0  POLYGON ((7.02724 47.50133, 7.03698 47.49750, ...\n",
       "2            NFI1  Conifers and broadleaves               St Gallen  Accessible forest without shrub forest  26516143.0      7.0  POLYGON ((9.55872 47.54189, 9.56110 47.49918, ...\n",
       "3            NFI1  Conifers and broadleaves                  Ticino  Accessible forest without shrub forest  43170143.0      4.0  POLYGON ((8.95738 46.63033, 8.96294 46.61816, ...\n",
       "4            NFI1  Conifers and broadleaves                  Zurich  Accessible forest without shrub forest  20758227.0      7.0  POLYGON ((8.66961 47.67475, 8.67687 47.67182, ...\n",
       "..            ...                       ...                     ...                                     ...         ...      ...                                                ...\n",
       "445          NFI5                  Conifers  Appenzell Ausserrhoden  Accessible forest without shrub forest   2474965.0     27.0  POLYGON ((9.54715 47.46701, 9.54584 47.46404, ...\n",
       "446          NFI5  Conifers and broadleaves                Fribourg  Accessible forest without shrub forest  17550079.0     11.0  MULTIPOLYGON (((6.77307 46.75142, 6.77615 46.7...\n",
       "447          NFI5  Conifers and broadleaves               Solothurn  Accessible forest without shrub forest  11902911.0     13.0  MULTIPOLYGON (((7.69240 47.16411, 7.69450 47.1...\n",
       "448          NFI5                  Conifers              both Basel  Accessible forest without shrub forest   1898933.0     24.0  MULTIPOLYGON (((7.69337 47.60065, 7.67175 47.5...\n",
       "449          NFI5  Conifers and broadleaves                     Uri  Accessible forest without shrub forest  10041075.0     16.0  POLYGON ((8.60118 46.97524, 8.60439 46.95198, ...\n",
       "\n",
       "[450 rows x 7 columns]"
      ]
     },
     "execution_count": 46,
     "metadata": {},
     "output_type": "execute_result"
    }
   ],
   "source": [
    "gdata = getters.LDLFI.getData(topicNumber=\"73\", classificationNumber=\"96\", regionNumber=\"827\", unitOfEvaluationNumber=\"434\", geometry=True)\n",
    "gdata"
   ]
  },
  {
   "attachments": {},
   "cell_type": "markdown",
   "metadata": {},
   "source": [
    "This Information is returned as a [GeoPandas](https://geopandas.org/en/stable/) dataframe.\n",
    "\n",
    "## Plotting\n",
    "\n",
    "As a small example, how this newly fetched data could be plotted, here a quick plot about the volume using the [GeoPandas plotting capabilities](https://geopandas.org/en/stable/docs/user_guide/mapping.html)."
   ]
  },
  {
   "cell_type": "code",
   "execution_count": 51,
   "metadata": {},
   "outputs": [
    {
     "name": "stderr",
     "output_type": "stream",
     "text": [
      "/tmp/ipykernel_28379/116472886.py:17: UserWarning: This figure includes Axes that are not compatible with tight_layout, so results might be incorrect.\n",
      "  fig.tight_layout()\n"
     ]
    },
    {
     "data": {
      "image/png": "[encoded data removed]",
      "text/plain": [
       "<Figure size 1200x250 with 4 Axes>"
      ]
     },
     "metadata": {},
     "output_type": "display_data"
    }
   ],
   "source": [
    "fig, axs = plt.subplots(nrows=1, ncols=3, figsize=(12, 2.5))\n",
    "\n",
    "plotframe = gdata[(gdata.inventoryName == \"NFI4\") & (gdata.regionName != \"Switzerland\")]\n",
    "maxVal = plotframe.topicValue.max()\n",
    "cax = fig.add_axes([0.05, -0.15, 0.9, 0.05])\n",
    "\n",
    "for i, classification in enumerate([\"Conifers\", \"Broadleaves\", \"Conifers and broadleaves\"]):\n",
    "    ax = plotframe[plotframe.classificationName == classification].plot(\"topicValue\", cmap=Greens, ax=axs[i], vmin=0, vmax=maxVal, cax=cax, legend=True, legend_kwds={'orientation': 'horizontal', 'label': 'Volume [$10^7~m^3$]', 'ticks': [0, 1e7, 2e7, 3e7, 4e7, 5e7]})\n",
    "    cax.set_xticklabels(['0', '1', '2', '3', '4', '5'])\n",
    "    ax.title.set_text(classification)\n",
    "    ax.set_aspect('equal')\n",
    "    ax.set_xlabel('Longitude [°E]')\n",
    "    ax.set_ylabel('Latitude [°N]')\n",
    "\n",
    "fig.suptitle(\"Volume classified by Conifers and Broadleaves in the NFI Economic Regions\")\n",
    "\n",
    "fig.tight_layout()\n"
   ]
  }
 ],
 "metadata": {
  "kernelspec": {
   "display_name": "Python 3",
   "language": "python",
   "name": "python3"
  },
  "language_info": {
   "codemirror_mode": {
    "name": "ipython",
    "version": 3
   },
   "file_extension": ".py",
   "mimetype": "text/x-python",
   "name": "python",
   "nbconvert_exporter": "python",
   "pygments_lexer": "ipython3",
   "version": "3.10.4"
  },
  "orig_nbformat": 4
 },
 "nbformat": 4,
 "nbformat_minor": 2
}
