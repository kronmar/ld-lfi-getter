{
 "cells": [
  {
   "cell_type": "code",
   "execution_count": null,
   "metadata": {},
   "outputs": [],
   "source": [
    "import pandas as pd\n",
    "import matplotlib.pyplot as plt\n",
    "from matplotlib.cm import Greens_r\n",
    "from getters import LDLFI\n",
    "pd.set_option('display.expand_frame_repr', False)"
   ]
  },
  {
   "attachments": {},
   "cell_type": "markdown",
   "metadata": {},
   "source": [
    "# Collecting and plotting\n",
    "\n",
    "## Collecting\n",
    "\n",
    "Our goal within this notebook is to first collect the information from [this table](\"https://lfi.ch/resultate/resultate-en.php?befNr=96&fldSearch=&invNr=450&p=search&regionNr=366&zigrNr=21&prodNr=70&prodItNr=869392\") about the volume within the economic regions, the accessible forests without shrub forest, and during the latest published NFI period classified by conifers and broadleaves.\n",
    "\n",
    "To fetch the data, we will use the keys that are used in the underlying relational database. To get these keys, we wrote some small functions to help in this.\n",
    "\n",
    "First, we are interested in the number of our topic:"
   ]
  },
  {
   "cell_type": "code",
   "execution_count": null,
   "metadata": {},
   "outputs": [],
   "source": [
    "LDLFI.getTopicNumbers()"
   ]
  }
 ],
 "metadata": {
  "language_info": {
   "name": "python"
  },
  "orig_nbformat": 4
 },
 "nbformat": 4,
 "nbformat_minor": 2
}
